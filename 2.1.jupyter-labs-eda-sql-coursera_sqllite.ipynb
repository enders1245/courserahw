{
 "cells": [
  {
   "cell_type": "markdown",
   "metadata": {},
   "source": [
    "<p style=\"text-align:center\">\n",
    "    <a href=\"https://skills.network/?utm_medium=Exinfluencer&utm_source=Exinfluencer&utm_content=000026UJ&utm_term=10006555&utm_id=NA-SkillsNetwork-Channel-SkillsNetworkCoursesIBMDS0321ENSkillsNetwork26802033-2022-01-01\" target=\"_blank\">\n",
    "    <img src=\"https://cf-courses-data.s3.us.cloud-object-storage.appdomain.cloud/assets/logos/SN_web_lightmode.png\" width=\"200\" alt=\"Skills Network Logo\"  />\n",
    "    </a>\n",
    "</p>\n",
    "\n",
    "<h1 align=center><font size = 5>Assignment: SQL Notebook for Peer Assignment</font></h1>\n",
    "\n",
    "Estimated time needed: **60** minutes.\n",
    "\n",
    "## Introduction\n",
    "\n",
    "Using this Python notebook you will:\n",
    "\n",
    "1.  Understand the Spacex DataSet\n",
    "2.  Load the dataset  into the corresponding table in a Db2 database\n",
    "3.  Execute SQL queries to answer assignment questions\n"
   ]
  },
  {
   "cell_type": "markdown",
   "metadata": {},
   "source": [
    "## Overview of the DataSet\n",
    "\n",
    "SpaceX has gained worldwide attention for a series of historic milestones.\n",
    "\n",
    "It is the only private company ever to return a spacecraft from low-earth orbit, which it first accomplished in December 2010.\n",
    "SpaceX advertises Falcon 9 rocket launches on its website with a cost of 62 million dollars wheras other providers cost upward of 165 million dollars each, much of the savings is because Space X can reuse the first stage.\n",
    "\n",
    "Therefore if we can determine if the first stage will land, we can determine the cost of a launch.\n",
    "\n",
    "This information can be used if an alternate company wants to bid against SpaceX for a rocket launch.\n",
    "\n",
    "This dataset includes a record for each payload carried during a SpaceX mission into outer space.\n"
   ]
  },
  {
   "cell_type": "markdown",
   "metadata": {},
   "source": [
    "### Download the datasets\n",
    "\n",
    "This assignment requires you to load the spacex dataset.\n",
    "\n",
    "In many cases the dataset to be analyzed is available as a .CSV (comma separated values) file, perhaps on the internet. Click on the link below to download and save the dataset (.CSV file):\n",
    "\n",
    "<a href=\"https://cf-courses-data.s3.us.cloud-object-storage.appdomain.cloud/IBM-DS0321EN-SkillsNetwork/labs/module_2/data/Spacex.csv?utm_medium=Exinfluencer&utm_source=Exinfluencer&utm_content=000026UJ&utm_term=10006555&utm_id=NA-SkillsNetwork-Channel-SkillsNetworkCoursesIBMDS0321ENSkillsNetwork26802033-2022-01-01\" target=\"_blank\">Spacex DataSet</a>\n"
   ]
  },
  {
   "cell_type": "markdown",
   "metadata": {},
   "source": [
    "### Store the dataset in database table\n",
    "\n",
    "**it is highly recommended to manually load the table using the database console LOAD tool in DB2**.\n",
    "\n",
    "<img src = \"https://cf-courses-data.s3.us.cloud-object-storage.appdomain.cloud/IBM-DS0321EN-SkillsNetwork/labs/module_2/images/spacexload.png\">\n",
    "\n",
    "Now open the Db2 console, open the LOAD tool, Select / Drag the .CSV file for the  dataset, Next create a New Table, and then follow the steps on-screen instructions to load the data. Name the new table as follows:\n",
    "\n",
    "**SPACEXDATASET**\n",
    "\n",
    "**Follow these steps while using old DB2 UI which is having Open Console Screen**\n",
    "\n",
    "**Note:While loading Spacex dataset, ensure that detect datatypes is disabled. Later click on the pencil icon(edit option).**\n",
    "\n",
    "1.  Change the Date Format by manually typing DD-MM-YYYY and timestamp format as DD-MM-YYYY HH\\:MM:SS\n",
    "\n",
    "2.  Change the PAYLOAD_MASS\\_\\_KG\\_  datatype  to INTEGER.\n",
    "\n",
    "<img src = \"https://cf-courses-data.s3.us.cloud-object-storage.appdomain.cloud/IBM-DS0321EN-SkillsNetwork/labs/module_2/images/spacexload2.png\">\n"
   ]
  },
  {
   "cell_type": "markdown",
   "metadata": {},
   "source": [
    "**Changes to be considered when having DB2 instance with the new UI having Go to UI screen**\n",
    "\n",
    "*   Refer to this insruction in this <a href=\"https://cf-courses-data.s3.us.cloud-object-storage.appdomain.cloud/IBMDeveloperSkillsNetwork-DB0201EN-SkillsNetwork/labs/Labs_Coursera_V5/labs/Lab%20-%20Sign%20up%20for%20IBM%20Cloud%20-%20Create%20Db2%20service%20instance%20-%20Get%20started%20with%20the%20Db2%20console/instructional-labs.md.html?utm_medium=Exinfluencer&utm_source=Exinfluencer&utm_content=000026UJ&utm_term=10006555&utm_id=NA-SkillsNetwork-Channel-SkillsNetworkCoursesIBMDS0321ENSkillsNetwork26802033-2022-01-01\">link</a> for viewing  the new  Go to UI screen.\n",
    "\n",
    "*   Later click on **Data link(below SQL)**  in the Go to UI screen  and click on **Load Data** tab.\n",
    "\n",
    "*   Later browse for the downloaded spacex file.\n",
    "\n",
    "<img src=\"https://cf-courses-data.s3.us.cloud-object-storage.appdomain.cloud/IBM-DS0321EN-SkillsNetwork/labs/module_2/images/browsefile.png\" width=\"800\"/>\n",
    "\n",
    "*   Once done select the schema andload the file.\n",
    "\n",
    " <img src=\"https://cf-courses-data.s3.us.cloud-object-storage.appdomain.cloud/IBM-DS0321EN-SkillsNetwork/labs/module_2/images/spacexload3.png\" width=\"800\"/>\n"
   ]
  },
  {
   "cell_type": "code",
   "execution_count": 1,
   "metadata": {},
   "outputs": [
    {
     "name": "stdout",
     "output_type": "stream",
     "text": [
      "Collecting sqlalchemy==1.3.9\n",
      "  Downloading SQLAlchemy-1.3.9.tar.gz (6.0 MB)\n",
      "\u001b[2K     \u001b[90m━━━━━━━━━━━━━━━━━━━━━━━━━━━━━━━━━━━━━━━━\u001b[0m \u001b[32m6.0/6.0 MB\u001b[0m \u001b[31m40.9 MB/s\u001b[0m eta \u001b[36m0:00:00\u001b[0m00:01\u001b[0m00:01\u001b[0m\n",
      "\u001b[?25h  Preparing metadata (setup.py) ... \u001b[?25ldone\n",
      "\u001b[?25hBuilding wheels for collected packages: sqlalchemy\n",
      "  Building wheel for sqlalchemy (setup.py) ... \u001b[?25ldone\n",
      "\u001b[?25h  Created wheel for sqlalchemy: filename=SQLAlchemy-1.3.9-cp37-cp37m-linux_x86_64.whl size=1159121 sha256=3c5865b697c18d33c64b0c1102289600eaa426a9d69517830df73d42f1055483\n",
      "  Stored in directory: /home/jupyterlab/.cache/pip/wheels/ef/95/ac/c232f83b415900c26553c64266e1a2b2863bc63e7a5d606c7e\n",
      "Successfully built sqlalchemy\n",
      "Installing collected packages: sqlalchemy\n",
      "  Attempting uninstall: sqlalchemy\n",
      "    Found existing installation: SQLAlchemy 1.3.24\n",
      "    Uninstalling SQLAlchemy-1.3.24:\n",
      "      Successfully uninstalled SQLAlchemy-1.3.24\n",
      "Successfully installed sqlalchemy-1.3.9\n"
     ]
    }
   ],
   "source": [
    "!pip install sqlalchemy==1.3.9\n"
   ]
  },
  {
   "cell_type": "markdown",
   "metadata": {},
   "source": [
    "### Connect to the database\n",
    "\n",
    "Let us first load the SQL extension and establish a connection with the database\n"
   ]
  },
  {
   "cell_type": "code",
   "execution_count": 2,
   "metadata": {},
   "outputs": [],
   "source": [
    "%load_ext sql"
   ]
  },
  {
   "cell_type": "code",
   "execution_count": 3,
   "metadata": {},
   "outputs": [],
   "source": [
    "import csv, sqlite3\n",
    "\n",
    "con = sqlite3.connect(\"my_data1.db\")\n",
    "cur = con.cursor()"
   ]
  },
  {
   "cell_type": "code",
   "execution_count": 4,
   "metadata": {},
   "outputs": [],
   "source": [
    "!pip install -q pandas==1.1.5"
   ]
  },
  {
   "cell_type": "code",
   "execution_count": 5,
   "metadata": {},
   "outputs": [
    {
     "data": {
      "text/plain": [
       "'Connected: @my_data1.db'"
      ]
     },
     "execution_count": 5,
     "metadata": {},
     "output_type": "execute_result"
    }
   ],
   "source": [
    "%sql sqlite:///my_data1.db"
   ]
  },
  {
   "cell_type": "code",
   "execution_count": 6,
   "metadata": {},
   "outputs": [
    {
     "name": "stderr",
     "output_type": "stream",
     "text": [
      "/home/jupyterlab/conda/envs/python/lib/python3.7/site-packages/pandas/core/generic.py:2882: UserWarning: The spaces in these column names will not be changed. In pandas versions < 0.14, spaces were converted to underscores.\n",
      "  both result in 0.1234 being formatted as 0.12.\n"
     ]
    }
   ],
   "source": [
    "import pandas as pd\n",
    "df = pd.read_csv(\"https://cf-courses-data.s3.us.cloud-object-storage.appdomain.cloud/IBM-DS0321EN-SkillsNetwork/labs/module_2/data/Spacex.csv\")\n",
    "df.to_sql(\"SPACEXTBL\", con, if_exists='replace', index=False,method=\"multi\")"
   ]
  },
  {
   "cell_type": "code",
   "execution_count": 13,
   "metadata": {},
   "outputs": [],
   "source": [
    "# cur.execute('select * from SPACEXTBL')\n",
    "# values = cur.fetchall()\n",
    "# values"
   ]
  },
  {
   "cell_type": "code",
   "execution_count": null,
   "metadata": {},
   "outputs": [],
   "source": []
  },
  {
   "cell_type": "markdown",
   "metadata": {},
   "source": [
    "## Tasks\n",
    "\n",
    "Now write and execute SQL queries to solve the assignment tasks.\n",
    "\n",
    "**Note: If the column names are in mixed case enclose it in double quotes\n",
    "For Example \"Landing_Outcome\"**\n",
    "\n",
    "### Task 1\n",
    "\n",
    "##### Display the names of the unique launch sites  in the space mission\n"
   ]
  },
  {
   "cell_type": "code",
   "execution_count": 14,
   "metadata": {},
   "outputs": [
    {
     "data": {
      "text/plain": [
       "[('CCAFS LC-40',), ('VAFB SLC-4E',), ('KSC LC-39A',), ('CCAFS SLC-40',)]"
      ]
     },
     "execution_count": 14,
     "metadata": {},
     "output_type": "execute_result"
    }
   ],
   "source": [
    "cur.execute('select DISTINCT \"Launch_Site\" from SPACEXTBL')\n",
    "values = cur.fetchall()\n",
    "values"
   ]
  },
  {
   "cell_type": "markdown",
   "metadata": {},
   "source": [
    "### Task 2\n",
    "\n",
    "##### Display 5 records where launch sites begin with the string 'CCA'\n"
   ]
  },
  {
   "cell_type": "code",
   "execution_count": 17,
   "metadata": {},
   "outputs": [
    {
     "data": {
      "text/plain": [
       "[('08-12-2010',\n",
       "  '15:43:00',\n",
       "  'F9 v1.0  B0004',\n",
       "  'CCAFS LC-40',\n",
       "  'Dragon demo flight C1, two CubeSats, barrel of Brouere cheese',\n",
       "  0,\n",
       "  'LEO (ISS)',\n",
       "  'NASA (COTS) NRO',\n",
       "  'Success',\n",
       "  'Failure (parachute)'),\n",
       " ('22-05-2012',\n",
       "  '07:44:00',\n",
       "  'F9 v1.0  B0005',\n",
       "  'CCAFS LC-40',\n",
       "  'Dragon demo flight C2',\n",
       "  525,\n",
       "  'LEO (ISS)',\n",
       "  'NASA (COTS)',\n",
       "  'Success',\n",
       "  'No attempt'),\n",
       " ('08-10-2012',\n",
       "  '00:35:00',\n",
       "  'F9 v1.0  B0006',\n",
       "  'CCAFS LC-40',\n",
       "  'SpaceX CRS-1',\n",
       "  500,\n",
       "  'LEO (ISS)',\n",
       "  'NASA (CRS)',\n",
       "  'Success',\n",
       "  'No attempt'),\n",
       " ('01-03-2013',\n",
       "  '15:10:00',\n",
       "  'F9 v1.0  B0007',\n",
       "  'CCAFS LC-40',\n",
       "  'SpaceX CRS-2',\n",
       "  677,\n",
       "  'LEO (ISS)',\n",
       "  'NASA (CRS)',\n",
       "  'Success',\n",
       "  'No attempt'),\n",
       " ('03-12-2013',\n",
       "  '22:41:00',\n",
       "  'F9 v1.1',\n",
       "  'CCAFS LC-40',\n",
       "  'SES-8',\n",
       "  3170,\n",
       "  'GTO',\n",
       "  'SES',\n",
       "  'Success',\n",
       "  'No attempt')]"
      ]
     },
     "execution_count": 17,
     "metadata": {},
     "output_type": "execute_result"
    }
   ],
   "source": [
    "cur.execute('select * from SPACEXTBL where \"Launch_Site\" like \"CCA%\" limit 1,5')\n",
    "values = cur.fetchall()\n",
    "values"
   ]
  },
  {
   "cell_type": "markdown",
   "metadata": {},
   "source": [
    "### Task 3\n",
    "\n",
    "##### Display the total payload mass carried by boosters launched by NASA (CRS)\n"
   ]
  },
  {
   "cell_type": "code",
   "execution_count": 21,
   "metadata": {},
   "outputs": [
    {
     "data": {
      "text/plain": [
       "[(48213,)]"
      ]
     },
     "execution_count": 21,
     "metadata": {},
     "output_type": "execute_result"
    }
   ],
   "source": [
    "cur.execute('select sum(\"PAYLOAD_MASS__KG_\") from SPACEXTBL where \"Customer\" like \"%NASA (CRS)%\"')\n",
    "values = cur.fetchall()\n",
    "values"
   ]
  },
  {
   "cell_type": "markdown",
   "metadata": {},
   "source": [
    "### Task 4\n",
    "\n",
    "##### Display average payload mass carried by booster version F9 v1.1\n"
   ]
  },
  {
   "cell_type": "code",
   "execution_count": 22,
   "metadata": {},
   "outputs": [
    {
     "data": {
      "text/plain": [
       "[(2534.6666666666665,)]"
      ]
     },
     "execution_count": 22,
     "metadata": {},
     "output_type": "execute_result"
    }
   ],
   "source": [
    "cur.execute('select AVG(\"PAYLOAD_MASS__KG_\") from SPACEXTBL where \"Booster_Version\" like \"%F9 v1.1%\"')\n",
    "values = cur.fetchall()\n",
    "values"
   ]
  },
  {
   "cell_type": "markdown",
   "metadata": {},
   "source": [
    "### Task 5\n",
    "\n",
    "##### List the date when the first succesful landing outcome in ground pad was acheived.\n",
    "\n",
    "*Hint:Use min function*\n"
   ]
  },
  {
   "cell_type": "code",
   "execution_count": 88,
   "metadata": {},
   "outputs": [
    {
     "data": {
      "text/plain": [
       "[('2015-12-22',)]"
      ]
     },
     "execution_count": 88,
     "metadata": {},
     "output_type": "execute_result"
    }
   ],
   "source": [
    "# cur.execute('select min(date(\"Date\")) from SPACEXTBL where \"Landing _Outcome\" = \"Success (ground pad)\"')\n",
    "cur.execute('select min(strftime(SUBSTR(Date, 7, 4)||\"-\"||SUBSTR(Date, 4,2)||\"-\"||SUBSTR(Date, 1, 2))) from SPACEXTBL where \"Landing _Outcome\" = \"Success (ground pad)\"')\n",
    "values = cur.fetchall()\n",
    "values"
   ]
  },
  {
   "cell_type": "markdown",
   "metadata": {},
   "source": [
    "### Task 6\n",
    "\n",
    "##### List the names of the boosters which have success in drone ship and have payload mass greater than 4000 but less than 6000\n"
   ]
  },
  {
   "cell_type": "code",
   "execution_count": 96,
   "metadata": {},
   "outputs": [
    {
     "data": {
      "text/plain": [
       "[('F9 FT B1022',), ('F9 FT B1026',), ('F9 FT  B1021.2',), ('F9 FT  B1031.2',)]"
      ]
     },
     "execution_count": 96,
     "metadata": {},
     "output_type": "execute_result"
    }
   ],
   "source": [
    "cur.execute('select \"Booster_Version\" from SPACEXTBL where \"PAYLOAD_MASS__KG_\" between 4000 and 6000 and \"Landing _Outcome\" = \"Success (drone ship)\"')\n",
    "values = cur.fetchall()\n",
    "values"
   ]
  },
  {
   "cell_type": "markdown",
   "metadata": {},
   "source": [
    "### Task 7\n",
    "\n",
    "##### List the total number of successful and failure mission outcomes\n"
   ]
  },
  {
   "cell_type": "code",
   "execution_count": 105,
   "metadata": {},
   "outputs": [
    {
     "data": {
      "text/plain": [
       "[(71,)]"
      ]
     },
     "execution_count": 105,
     "metadata": {},
     "output_type": "execute_result"
    }
   ],
   "source": [
    "cur.execute('select count(*) from SPACEXTBL where \"Landing _Outcome\" like \"Failure%\" or \"Landing _Outcome\" like \"Success%\"')\n",
    "values = cur.fetchall()\n",
    "values"
   ]
  },
  {
   "cell_type": "markdown",
   "metadata": {},
   "source": [
    "### Task 8\n",
    "\n",
    "##### List the   names of the booster_versions which have carried the maximum payload mass. Use a subquery\n"
   ]
  },
  {
   "cell_type": "code",
   "execution_count": 109,
   "metadata": {},
   "outputs": [
    {
     "data": {
      "text/plain": [
       "[('F9 B5 B1048.4', 15600),\n",
       " ('F9 B5 B1049.4', 15600),\n",
       " ('F9 B5 B1051.3', 15600),\n",
       " ('F9 B5 B1056.4', 15600),\n",
       " ('F9 B5 B1048.5', 15600),\n",
       " ('F9 B5 B1051.4', 15600),\n",
       " ('F9 B5 B1049.5', 15600),\n",
       " ('F9 B5 B1060.2 ', 15600),\n",
       " ('F9 B5 B1058.3 ', 15600),\n",
       " ('F9 B5 B1051.6', 15600),\n",
       " ('F9 B5 B1060.3', 15600),\n",
       " ('F9 B5 B1049.7 ', 15600)]"
      ]
     },
     "execution_count": 109,
     "metadata": {},
     "output_type": "execute_result"
    }
   ],
   "source": [
    "cur.execute('select \"Booster_Version\", \"PAYLOAD_MASS__KG_\" from SPACEXTBL where \"PAYLOAD_MASS__KG_\" = (select max(\"PAYLOAD_MASS__KG_\") from SPACEXTBL)')\n",
    "values = cur.fetchall()\n",
    "values"
   ]
  },
  {
   "cell_type": "markdown",
   "metadata": {},
   "source": [
    "### Task 9\n",
    "\n",
    "##### List the records which will display the month names, failure landing_outcomes in drone ship ,booster versions, launch_site for the months in year 2015.\n",
    "\n",
    "**Note: SQLLite does not support monthnames. So you need to use  substr(Date, 4, 2) as month to get the months and substr(Date,7,4)='2015' for year.**\n"
   ]
  },
  {
   "cell_type": "code",
   "execution_count": 112,
   "metadata": {},
   "outputs": [
    {
     "data": {
      "text/plain": [
       "[('01', '2015', 'Failure (drone ship)', 'F9 v1.1 B1012', 'CCAFS LC-40'),\n",
       " ('04', '2015', 'Failure (drone ship)', 'F9 v1.1 B1015', 'CCAFS LC-40')]"
      ]
     },
     "execution_count": 112,
     "metadata": {},
     "output_type": "execute_result"
    }
   ],
   "source": [
    "cur.execute('select substr(Date,4,2), substr(Date,7,4), \"Landing _Outcome\", \"Booster_Version\", \"Launch_Site\" from SPACEXTBL where \"Landing _Outcome\" = \"Failure (drone ship)\" and substr(Date,7,4) = \"2015\"')\n",
    "values = cur.fetchall()\n",
    "values"
   ]
  },
  {
   "cell_type": "markdown",
   "metadata": {},
   "source": [
    "### Task 10\n",
    "\n",
    "##### Rank the  count of  successful landing_outcomes between the date 04-06-2010 and 20-03-2017 in descending order.\n"
   ]
  },
  {
   "cell_type": "code",
   "execution_count": 141,
   "metadata": {},
   "outputs": [
    {
     "data": {
      "text/plain": [
       "[('2020-12-06',\n",
       "  'F9 B5 B1058.4 ',\n",
       "  'KSC LC-39A',\n",
       "  'SpaceX CRS-21',\n",
       "  2972,\n",
       "  'LEO (ISS)',\n",
       "  'NASA (CRS)',\n",
       "  'Success',\n",
       "  'Success'),\n",
       " ('2020-11-25',\n",
       "  'F9 B5 B1049.7 ',\n",
       "  'CCAFS SLC-40',\n",
       "  'Starlink 15 v1.0, SpaceX CRS-21',\n",
       "  15600,\n",
       "  'LEO',\n",
       "  'SpaceX',\n",
       "  'Success',\n",
       "  'Success'),\n",
       " ('2020-11-21',\n",
       "  'F9 B5B1063.1',\n",
       "  'VAFB SLC-4E',\n",
       "  'Sentinel-6 Michael Freilich, Starlink 15 v1.0 ',\n",
       "  1192,\n",
       "  'LEO',\n",
       "  'NASA / NOAA / ESA / EUMETSAT',\n",
       "  'Success',\n",
       "  'Success'),\n",
       " ('2020-11-16',\n",
       "  'F9 B5B1061.1 ',\n",
       "  'KSC LC-39A',\n",
       "  'Crew-1, Sentinel-6 Michael Freilich ',\n",
       "  12500,\n",
       "  'LEO (ISS)',\n",
       "  'NASA (CCP)',\n",
       "  'Success',\n",
       "  'Success'),\n",
       " ('2020-11-05',\n",
       "  'F9 B5B1062.1',\n",
       "  'CCAFS SLC-40',\n",
       "  'GPS III-04 , Crew-1',\n",
       "  4311,\n",
       "  'MEO',\n",
       "  'USSF',\n",
       "  'Success',\n",
       "  'Success'),\n",
       " ('2020-10-24',\n",
       "  'F9 B5 B1060.3',\n",
       "  'CCAFS SLC-40',\n",
       "  'Starlink 14 v1.0, GPS III-04  ',\n",
       "  15600,\n",
       "  'LEO',\n",
       "  'SpaceX',\n",
       "  'Success',\n",
       "  'Success'),\n",
       " ('2020-10-18',\n",
       "  'F9 B5 B1051.6',\n",
       "  'KSC LC-39A',\n",
       "  'Starlink 13 v1.0, Starlink 14 v1.0 ',\n",
       "  15600,\n",
       "  'LEO',\n",
       "  'SpaceX',\n",
       "  'Success',\n",
       "  'Success'),\n",
       " ('2020-10-06',\n",
       "  'F9 B5 B1058.3 ',\n",
       "  'KSC LC-39A',\n",
       "  'Starlink 12 v1.0, Starlink 13 v1.0 ',\n",
       "  15600,\n",
       "  'LEO',\n",
       "  'SpaceX',\n",
       "  'Success',\n",
       "  'Success'),\n",
       " ('2020-09-03',\n",
       "  'F9 B5 B1060.2 ',\n",
       "  'KSC LC-39A',\n",
       "  'Starlink 11 v1.0, Starlink 12 v1.0 ',\n",
       "  15600,\n",
       "  'LEO',\n",
       "  'SpaceX',\n",
       "  'Success',\n",
       "  'Success'),\n",
       " ('2020-08-30',\n",
       "  'F9 B5 B1059.4',\n",
       "  'CCAFS SLC-40',\n",
       "  'SAOCOM 1B, GNOMES 1, Tyvak-0172',\n",
       "  3130,\n",
       "  'SSO',\n",
       "  'CONAE, PlanetIQ, SpaceX',\n",
       "  'Success',\n",
       "  'Success'),\n",
       " ('2020-08-18',\n",
       "  'F9 B5 B1049.6',\n",
       "  'CCAFS SLC-40',\n",
       "  'Starlink 10 v1.0, SkySat-19, -20, -21, SAOCOM 1B ',\n",
       "  15440,\n",
       "  'LEO',\n",
       "  'SpaceX, Planet Labs, PlanetIQ',\n",
       "  'Success',\n",
       "  'Success'),\n",
       " ('2020-08-07',\n",
       "  'F9 B5 B1051.5',\n",
       "  'KSC LC-39A',\n",
       "  'Starlink 9 v1.0, SXRS-1, Starlink 10 v1.0 ',\n",
       "  14932,\n",
       "  'LEO',\n",
       "  'SpaceX, Spaceflight Industries (BlackSky), Planet Labs',\n",
       "  'Success',\n",
       "  'Success'),\n",
       " ('2020-07-20',\n",
       "  'F9 B5 B1058.2 ',\n",
       "  'CCAFS SLC-40',\n",
       "  'ANASIS-II, Starlink 9 v1.0',\n",
       "  5500,\n",
       "  'GTO',\n",
       "  'Republic of Korea Army, Spaceflight Industries (BlackSky)',\n",
       "  'Success',\n",
       "  'Success'),\n",
       " ('2020-06-30',\n",
       "  'F9 B5B1060.1',\n",
       "  'CCAFS SLC-40',\n",
       "  'GPS III-03, ANASIS-II',\n",
       "  4311,\n",
       "  'MEO',\n",
       "  'U.S. Space Force',\n",
       "  'Success',\n",
       "  'Success'),\n",
       " ('2020-06-13',\n",
       "  'F9 B5 B1059.3',\n",
       "  'CCAFS SLC-40',\n",
       "  'Starlink 8 v1.0, SkySats-16, -17, -18, GPS III-03 ',\n",
       "  15410,\n",
       "  'LEO',\n",
       "  'SpaceX, Planet Labs',\n",
       "  'Success',\n",
       "  'Success'),\n",
       " ('2020-06-04',\n",
       "  'F9 B5 B1049.5',\n",
       "  'CCAFS SLC-40',\n",
       "  'Starlink 7 v1.0, Starlink 8 v1.0',\n",
       "  15600,\n",
       "  'LEO',\n",
       "  'SpaceX, Planet Labs',\n",
       "  'Success',\n",
       "  'Success'),\n",
       " ('2020-05-30',\n",
       "  'F9 B5B1058.1 ',\n",
       "  'KSC LC-39A',\n",
       "  'Crew Dragon Demo-2, Starlink 7 v1.0 ',\n",
       "  12530,\n",
       "  'LEO (ISS)',\n",
       "  'NASA (CCDev)',\n",
       "  'Success',\n",
       "  'Success'),\n",
       " ('2020-04-22',\n",
       "  'F9 B5 B1051.4',\n",
       "  'KSC LC-39A',\n",
       "  'Starlink 6 v1.0, Crew Dragon Demo-2 ',\n",
       "  15600,\n",
       "  'LEO',\n",
       "  'SpaceX',\n",
       "  'Success',\n",
       "  'Success'),\n",
       " ('2020-03-07',\n",
       "  'F9 B5 B1059.2',\n",
       "  'CCAFS SLC-40',\n",
       "  'SpaceX CRS-20, Starlink 5 v1.0 ',\n",
       "  1977,\n",
       "  'LEO (ISS)',\n",
       "  'NASA (CRS)',\n",
       "  'Success',\n",
       "  'Success'),\n",
       " ('2020-01-29',\n",
       "  'F9 B5 B1051.3',\n",
       "  'CCAFS SLC-40',\n",
       "  'Starlink 3 v1.0, Starlink 4 v1.0 ',\n",
       "  15600,\n",
       "  'LEO',\n",
       "  'SpaceX',\n",
       "  'Success',\n",
       "  'Success'),\n",
       " ('2020-01-07',\n",
       "  'F9 B5 B1049.4',\n",
       "  'CCAFS SLC-40',\n",
       "  'Starlink 2 v1.0, Crew Dragon in-flight abort test ',\n",
       "  15600,\n",
       "  'LEO',\n",
       "  'SpaceX',\n",
       "  'Success',\n",
       "  'Success'),\n",
       " ('2019-12-17',\n",
       "  'F9 B5 B1056.3 ',\n",
       "  'CCAFS SLC-40',\n",
       "  'JCSat-18 / Kacific 1, Starlink 2 v1.0 ',\n",
       "  6956,\n",
       "  'GTO',\n",
       "  'Sky Perfect JSAT, Kacific 1',\n",
       "  'Success',\n",
       "  'Success'),\n",
       " ('2019-12-05',\n",
       "  'F9 B5B1059.1',\n",
       "  'CCAFS SLC-40',\n",
       "  'SpaceX CRS-19, JCSat-18 / Kacific 1 ',\n",
       "  2617,\n",
       "  'LEO (ISS)',\n",
       "  'NASA (CRS), Kacific 1',\n",
       "  'Success',\n",
       "  'Success'),\n",
       " ('2019-11-11',\n",
       "  'F9 B5 B1048.4',\n",
       "  'CCAFS SLC-40',\n",
       "  'Starlink 1 v1.0, SpaceX CRS-19 ',\n",
       "  15600,\n",
       "  'LEO',\n",
       "  'SpaceX',\n",
       "  'Success',\n",
       "  'Success'),\n",
       " ('2019-07-25',\n",
       "  'F9 B5 B1056.2 ',\n",
       "  'CCAFS SLC-40',\n",
       "  'SpaceX CRS-18, AMOS-17 ',\n",
       "  2268,\n",
       "  'LEO (ISS)',\n",
       "  'NASA (CRS)',\n",
       "  'Success',\n",
       "  'Success'),\n",
       " ('2019-06-12',\n",
       "  'F9 B5 B1051.2 ',\n",
       "  'VAFB SLC-4E',\n",
       "  'RADARSAT Constellation, SpaceX CRS-18 ',\n",
       "  4200,\n",
       "  'SSO',\n",
       "  'Canadian Space Agency (CSA)',\n",
       "  'Success',\n",
       "  'Success'),\n",
       " ('2019-05-24',\n",
       "  'F9 B5 B1049.3',\n",
       "  'CCAFS SLC-40',\n",
       "  'Starlink v0.9, RADARSAT Constellation',\n",
       "  13620,\n",
       "  'LEO',\n",
       "  'SpaceX',\n",
       "  'Success',\n",
       "  'Success'),\n",
       " ('2019-05-04',\n",
       "  'F9 B5B1056.1 ',\n",
       "  'CCAFS SLC-40',\n",
       "  'SpaceX CRS-17, Starlink v0.9',\n",
       "  2495,\n",
       "  'LEO (ISS)',\n",
       "  'NASA (CRS)',\n",
       "  'Success',\n",
       "  'Success'),\n",
       " ('2019-03-02',\n",
       "  'F9 B5B1051.1',\n",
       "  'KSC LC-39A',\n",
       "  'Crew Dragon Demo-1, SpaceX CRS-17 ',\n",
       "  12055,\n",
       "  'LEO (ISS)',\n",
       "  'NASA (CCD) ',\n",
       "  'Success',\n",
       "  'Success'),\n",
       " ('2019-02-22',\n",
       "  'F9 B5 B1048.3',\n",
       "  'CCAFS SLC-40',\n",
       "  'Nusantara Satu, Beresheet Moon lander, S5',\n",
       "  4850,\n",
       "  'GTO',\n",
       "  'PSN, SpaceIL / IAI',\n",
       "  'Success',\n",
       "  'Success'),\n",
       " ('2019-01-11',\n",
       "  'F9 B5 B1049.2',\n",
       "  'VAFB SLC-4E',\n",
       "  'Iridium NEXT-8',\n",
       "  9600,\n",
       "  'Polar LEO',\n",
       "  'Iridium Communications',\n",
       "  'Success',\n",
       "  'Success'),\n",
       " ('2018-12-03',\n",
       "  'F9 B5 B1046.3',\n",
       "  'VAFB SLC-4E',\n",
       "  'SSO-A ',\n",
       "  4000,\n",
       "  'SSO',\n",
       "  'Spaceflight Industries',\n",
       "  'Success',\n",
       "  'Success'),\n",
       " ('2018-11-15',\n",
       "  'F9 B5 B1047.2',\n",
       "  'KSC LC-39A',\n",
       "  'Es hail 2',\n",
       "  5300,\n",
       "  'GTO',\n",
       "  'Es hailSat',\n",
       "  'Success',\n",
       "  'Success'),\n",
       " ('2018-10-08',\n",
       "  'F9 B5 B1048.2',\n",
       "  'VAFB SLC-4E',\n",
       "  'SAOCOM 1A',\n",
       "  3000,\n",
       "  'SSO',\n",
       "  'CONAE',\n",
       "  'Success',\n",
       "  'Success'),\n",
       " ('2018-09-10',\n",
       "  'F9 B5B1049.1',\n",
       "  'CCAFS SLC-40',\n",
       "  'Telstar 18V / Apstar-5C',\n",
       "  7060,\n",
       "  'GTO',\n",
       "  'Telesat',\n",
       "  'Success',\n",
       "  'Success'),\n",
       " ('2018-08-07',\n",
       "  'F9 B5 B1046.2',\n",
       "  'CCAFS SLC-40',\n",
       "  'Merah Putih ',\n",
       "  5800,\n",
       "  'GTO',\n",
       "  'Telkom Indonesia',\n",
       "  'Success',\n",
       "  'Success'),\n",
       " ('2018-07-25',\n",
       "  'F9 B5B1048.1',\n",
       "  'VAFB SLC-4E',\n",
       "  'Iridium NEXT-7',\n",
       "  9600,\n",
       "  'Polar LEO',\n",
       "  'Iridium Communications',\n",
       "  'Success',\n",
       "  'Success'),\n",
       " ('2018-07-22',\n",
       "  'F9 B5B1047.1',\n",
       "  'CCAFS SLC-40',\n",
       "  'Telstar 19V',\n",
       "  7075,\n",
       "  'GTO',\n",
       "  'Telesat',\n",
       "  'Success',\n",
       "  'Success'),\n",
       " ('2018-05-11',\n",
       "  'F9 B5  B1046.1',\n",
       "  'KSC LC-39A',\n",
       "  'Bangabandhu-1',\n",
       "  3600,\n",
       "  'GTO',\n",
       "  'Thales-Alenia/BTRC',\n",
       "  'Success',\n",
       "  'Success (drone ship)'),\n",
       " ('2018-04-18',\n",
       "  'F9 B4 B1045.1',\n",
       "  'CCAFS SLC-40',\n",
       "  'Transiting Exoplanet Survey Satellite (TESS)',\n",
       "  362,\n",
       "  'HEO',\n",
       "  'NASA (LSP)',\n",
       "  'Success',\n",
       "  'Success (drone ship)'),\n",
       " ('2018-01-08',\n",
       "  'F9 B4 B1043.1',\n",
       "  'CCAFS SLC-40',\n",
       "  'Zuma',\n",
       "  5000,\n",
       "  'LEO',\n",
       "  'Northrop Grumman',\n",
       "  'Success (payload status unclear)',\n",
       "  'Success (ground pad)'),\n",
       " ('2017-12-15',\n",
       "  'F9 FT  B1035.2',\n",
       "  'CCAFS SLC-40',\n",
       "  'SpaceX CRS-13',\n",
       "  2205,\n",
       "  'LEO (ISS)',\n",
       "  'NASA (CRS)',\n",
       "  'Success',\n",
       "  'Success (ground pad)'),\n",
       " ('2017-10-30',\n",
       "  'F9 B4 B1042.1',\n",
       "  'KSC LC-39A',\n",
       "  'Koreasat 5A',\n",
       "  3500,\n",
       "  'GTO',\n",
       "  'KT Corporation',\n",
       "  'Success',\n",
       "  'Success (drone ship)'),\n",
       " ('2017-10-11',\n",
       "  'F9 FT  B1031.2',\n",
       "  'KSC LC-39A',\n",
       "  'SES-11 / EchoStar 105',\n",
       "  5200,\n",
       "  'GTO',\n",
       "  'SES EchoStar',\n",
       "  'Success',\n",
       "  'Success (drone ship)'),\n",
       " ('2017-10-09',\n",
       "  'F9 B4 B1041.1',\n",
       "  'VAFB SLC-4E',\n",
       "  'Iridium NEXT 3',\n",
       "  9600,\n",
       "  'Polar LEO',\n",
       "  'Iridium Communications',\n",
       "  'Success',\n",
       "  'Success (drone ship)'),\n",
       " ('2017-09-07',\n",
       "  'F9 B4 B1040.1',\n",
       "  'KSC LC-39A',\n",
       "  'Boeing X-37B OTV-5',\n",
       "  4990,\n",
       "  'LEO',\n",
       "  'U.S. Air Force',\n",
       "  'Success',\n",
       "  'Success (ground pad)'),\n",
       " ('2017-08-24',\n",
       "  'F9 FT B1038.1',\n",
       "  'VAFB SLC-4E',\n",
       "  'Formosat-5',\n",
       "  475,\n",
       "  'SSO',\n",
       "  'NSPO',\n",
       "  'Success',\n",
       "  'Success (drone ship)'),\n",
       " ('2017-08-14',\n",
       "  'F9 B4 B1039.1',\n",
       "  'KSC LC-39A',\n",
       "  'SpaceX CRS-12',\n",
       "  3310,\n",
       "  'LEO (ISS)',\n",
       "  'NASA (CRS)',\n",
       "  'Success',\n",
       "  'Success (ground pad)'),\n",
       " ('2017-06-25',\n",
       "  'F9 FT B1036.1',\n",
       "  'VAFB SLC-4E',\n",
       "  'Iridium NEXT 2',\n",
       "  9600,\n",
       "  'LEO',\n",
       "  'Iridium Communications',\n",
       "  'Success',\n",
       "  'Success (drone ship)'),\n",
       " ('2017-06-23',\n",
       "  'F9 FT  B1029.2',\n",
       "  'KSC LC-39A',\n",
       "  'BulgariaSat-1',\n",
       "  3669,\n",
       "  'GTO',\n",
       "  'Bulsatcom',\n",
       "  'Success',\n",
       "  'Success (drone ship)'),\n",
       " ('2017-06-03',\n",
       "  'F9 FT B1035.1',\n",
       "  'KSC LC-39A',\n",
       "  'SpaceX CRS-11',\n",
       "  2708,\n",
       "  'LEO (ISS)',\n",
       "  'NASA (CRS)',\n",
       "  'Success',\n",
       "  'Success (ground pad)'),\n",
       " ('2017-05-01',\n",
       "  'F9 FT B1032.1',\n",
       "  'KSC LC-39A',\n",
       "  'NROL-76',\n",
       "  5300,\n",
       "  'LEO',\n",
       "  'NRO',\n",
       "  'Success',\n",
       "  'Success (ground pad)'),\n",
       " ('2017-03-30',\n",
       "  'F9 FT  B1021.2',\n",
       "  'KSC LC-39A',\n",
       "  'SES-10',\n",
       "  5300,\n",
       "  'GTO',\n",
       "  'SES',\n",
       "  'Success',\n",
       "  'Success (drone ship)'),\n",
       " ('2017-02-19',\n",
       "  'F9 FT B1031.1',\n",
       "  'KSC LC-39A',\n",
       "  'SpaceX CRS-10',\n",
       "  2490,\n",
       "  'LEO (ISS)',\n",
       "  'NASA (CRS)',\n",
       "  'Success',\n",
       "  'Success (ground pad)'),\n",
       " ('2017-01-14',\n",
       "  'F9 FT B1029.1',\n",
       "  'VAFB SLC-4E',\n",
       "  'Iridium NEXT 1',\n",
       "  9600,\n",
       "  'Polar LEO',\n",
       "  'Iridium Communications',\n",
       "  'Success',\n",
       "  'Success (drone ship)'),\n",
       " ('2016-08-14',\n",
       "  'F9 FT B1026',\n",
       "  'CCAFS LC-40',\n",
       "  'JCSAT-16',\n",
       "  4600,\n",
       "  'GTO',\n",
       "  'SKY Perfect JSAT Group',\n",
       "  'Success',\n",
       "  'Success (drone ship)'),\n",
       " ('2016-07-18',\n",
       "  'F9 FT B1025.1',\n",
       "  'CCAFS LC-40',\n",
       "  'SpaceX CRS-9',\n",
       "  2257,\n",
       "  'LEO (ISS)',\n",
       "  'NASA (CRS)',\n",
       "  'Success',\n",
       "  'Success (ground pad)'),\n",
       " ('2016-05-27',\n",
       "  'F9 FT B1023.1',\n",
       "  'CCAFS LC-40',\n",
       "  'Thaicom 8',\n",
       "  3100,\n",
       "  'GTO',\n",
       "  'Thaicom',\n",
       "  'Success',\n",
       "  'Success (drone ship)'),\n",
       " ('2016-05-06',\n",
       "  'F9 FT B1022',\n",
       "  'CCAFS LC-40',\n",
       "  'JCSAT-14',\n",
       "  4696,\n",
       "  'GTO',\n",
       "  'SKY Perfect JSAT Group',\n",
       "  'Success',\n",
       "  'Success (drone ship)'),\n",
       " ('2016-04-08',\n",
       "  'F9 FT B1021.1',\n",
       "  'CCAFS LC-40',\n",
       "  'SpaceX CRS-8',\n",
       "  3136,\n",
       "  'LEO (ISS)',\n",
       "  'NASA (CRS)',\n",
       "  'Success',\n",
       "  'Success (drone ship)'),\n",
       " ('2015-12-22',\n",
       "  'F9 FT B1019',\n",
       "  'CCAFS LC-40',\n",
       "  'OG2 Mission 2  11 Orbcomm-OG2 satellites',\n",
       "  2034,\n",
       "  'LEO',\n",
       "  'Orbcomm',\n",
       "  'Success',\n",
       "  'Success (ground pad)')]"
      ]
     },
     "execution_count": 141,
     "metadata": {},
     "output_type": "execute_result"
    }
   ],
   "source": [
    "cur.execute('select * from \\\n",
    "            (select (substr(Date,7,4)||\"-\"||substr(Date,4,2)||\"-\"||substr(Date,1,2)) as \"Date\",\\\n",
    "            \"Booster_Version\",\\\n",
    "            \"Launch_Site\",\\\n",
    "            \"Payload\",\\\n",
    "            \"PAYLOAD_MASS__KG_\",\\\n",
    "            \"Orbit\",\"Customer\",\\\n",
    "            \"Mission_Outcome\",\\\n",
    "            \"Landing _Outcome\" from SPACEXTBL) as t1 where t1.Date between \"2010-06-04\" and \"2017-03-20\" and t1.\"Landing _Outcome\" like \"Success%\" order by t1.Date DESC')\n",
    "values = cur.fetchall()\n",
    "values"
   ]
  },
  {
   "cell_type": "markdown",
   "metadata": {},
   "source": [
    "### Reference Links\n",
    "\n",
    "*   <a href =\"https://cf-courses-data.s3.us.cloud-object-storage.appdomain.cloud/IBMDeveloperSkillsNetwork-DB0201EN-SkillsNetwork/labs/Labs_Coursera_V5/labs/Lab%20-%20String%20Patterns%20-%20Sorting%20-%20Grouping/instructional-labs.md.html?utm_medium=Exinfluencer&utm_source=Exinfluencer&utm_content=000026UJ&utm_term=10006555&utm_id=NA-SkillsNetwork-Channel-SkillsNetworkCoursesIBMDS0321ENSkillsNetwork26802033-2022-01-01&origin=www.coursera.org\">Hands-on Lab : String Patterns, Sorting and Grouping</a>\n",
    "\n",
    "*   <a  href=\"https://cf-courses-data.s3.us.cloud-object-storage.appdomain.cloud/IBMDeveloperSkillsNetwork-DB0201EN-SkillsNetwork/labs/Labs_Coursera_V5/labs/Lab%20-%20Built-in%20functions%20/Hands-on_Lab__Built-in_Functions.md.html?utm_medium=Exinfluencer&utm_source=Exinfluencer&utm_content=000026UJ&utm_term=10006555&utm_id=NA-SkillsNetwork-Channel-SkillsNetworkCoursesIBMDS0321ENSkillsNetwork26802033-2022-01-01&origin=www.coursera.org\">Hands-on Lab: Built-in functions</a>\n",
    "\n",
    "*   <a  href=\"https://cf-courses-data.s3.us.cloud-object-storage.appdomain.cloud/IBMDeveloperSkillsNetwork-DB0201EN-SkillsNetwork/labs/Labs_Coursera_V5/labs/Lab%20-%20Sub-queries%20and%20Nested%20SELECTs%20/instructional-labs.md.html?utm_medium=Exinfluencer&utm_source=Exinfluencer&utm_content=000026UJ&utm_term=10006555&utm_id=NA-SkillsNetwork-Channel-SkillsNetworkCoursesIBMDS0321ENSkillsNetwork26802033-2022-01-01&origin=www.coursera.org\">Hands-on Lab : Sub-queries and Nested SELECT Statements</a>\n",
    "\n",
    "*   <a href=\"https://cf-courses-data.s3.us.cloud-object-storage.appdomain.cloud/IBMDeveloperSkillsNetwork-DB0201EN-SkillsNetwork/labs/Module%205/DB0201EN-Week3-1-3-SQLmagic.ipynb?utm_medium=Exinfluencer&utm_source=Exinfluencer&utm_content=000026UJ&utm_term=10006555&utm_id=NA-SkillsNetwork-Channel-SkillsNetworkCoursesIBMDS0321ENSkillsNetwork26802033-2022-01-01\">Hands-on Tutorial: Accessing Databases with SQL magic</a>\n",
    "\n",
    "*   <a href= \"https://cf-courses-data.s3.us.cloud-object-storage.appdomain.cloud/IBMDeveloperSkillsNetwork-DB0201EN-SkillsNetwork/labs/Module%205/DB0201EN-Week3-1-4-Analyzing.ipynb?utm_medium=Exinfluencer&utm_source=Exinfluencer&utm_content=000026UJ&utm_term=10006555&utm_id=NA-SkillsNetwork-Channel-SkillsNetworkCoursesIBMDS0321ENSkillsNetwork26802033-2022-01-01\">Hands-on Lab: Analyzing a real World Data Set</a>\n"
   ]
  },
  {
   "cell_type": "markdown",
   "metadata": {},
   "source": [
    "## Author(s)\n",
    "\n",
    "<h4> Lakshmi Holla </h4>\n"
   ]
  },
  {
   "cell_type": "markdown",
   "metadata": {},
   "source": [
    "## Other Contributors\n",
    "\n",
    "<h4> Rav Ahuja </h4>\n"
   ]
  },
  {
   "cell_type": "markdown",
   "metadata": {},
   "source": [
    "## Change log\n",
    "\n",
    "| Date       | Version | Changed by    | Change Description        |\n",
    "| ---------- | ------- | ------------- | ------------------------- |\n",
    "| 2021-07-09 | 0.2     | Lakshmi Holla | Changes made in magic sql |\n",
    "| 2021-05-20 | 0.1     | Lakshmi Holla | Created Initial Version   |\n"
   ]
  },
  {
   "cell_type": "markdown",
   "metadata": {},
   "source": [
    "## <h3 align=\"center\"> © IBM Corporation 2021. All rights reserved. <h3/>\n"
   ]
  }
 ],
 "metadata": {
  "kernelspec": {
   "display_name": "Python 3 (ipykernel)",
   "language": "python",
   "name": "python3"
  },
  "language_info": {
   "codemirror_mode": {
    "name": "ipython",
    "version": 3
   },
   "file_extension": ".py",
   "mimetype": "text/x-python",
   "name": "python",
   "nbconvert_exporter": "python",
   "pygments_lexer": "ipython3",
   "version": "3.9.12"
  },
  "varInspector": {
   "cols": {
    "lenName": 16,
    "lenType": 16,
    "lenVar": 40
   },
   "kernels_config": {
    "python": {
     "delete_cmd_postfix": "",
     "delete_cmd_prefix": "del ",
     "library": "var_list.py",
     "varRefreshCmd": "print(var_dic_list())"
    },
    "r": {
     "delete_cmd_postfix": ") ",
     "delete_cmd_prefix": "rm(",
     "library": "var_list.r",
     "varRefreshCmd": "cat(var_dic_list()) "
    }
   },
   "types_to_exclude": [
    "module",
    "function",
    "builtin_function_or_method",
    "instance",
    "_Feature"
   ],
   "window_display": false
  }
 },
 "nbformat": 4,
 "nbformat_minor": 4
}
